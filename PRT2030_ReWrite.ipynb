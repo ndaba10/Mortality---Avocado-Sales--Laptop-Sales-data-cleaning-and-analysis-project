{
 "cells": [
  {
   "cell_type": "markdown",
   "metadata": {},
   "source": [
    "\n",
    "### Load only the libraries that you will <i>require for the exam</i> in a single cell below."
   ]
  },
  {
   "cell_type": "code",
   "execution_count": 1,
   "metadata": {},
   "outputs": [],
   "source": [
    "import pandas as pd\n",
    "import numpy as np \n",
    "import matplotlib.pyplot as plt \n",
    "import seaborn as sns"
   ]
  },
  {
   "cell_type": "markdown",
   "metadata": {},
   "source": [
    "### <p style=\"background-color:rgb(0, 0, 0);\">Load the <b>mortality_data.pkl</b> and <b>mortality_wide.pkl</b> datasets into two different DataFrames named <i>df_long</i> and <i>df_wide</i> respectively.</p>"
   ]
  },
  {
   "cell_type": "code",
   "execution_count": null,
   "metadata": {},
   "outputs": [],
   "source": [
    "df_long = pd.read_pickle('mortality_data.pkl')\n",
    "df_wide = pd.read_pickle('mortality_wide.pkl')\n",
    "df_long\n",
    "df_wide"
   ]
  },
  {
   "cell_type": "code",
   "execution_count": null,
   "metadata": {},
   "outputs": [],
   "source": []
  },
  {
   "cell_type": "markdown",
   "metadata": {},
   "source": [
    "### <p style=\"background-color:rgb(0, 0, 0);\"><i>Use the <b>df_long</b> DataFrame until instructed to change DataFrames<i>.</p>"
   ]
  },
  {
   "cell_type": "markdown",
   "metadata": {},
   "source": [
    "<u><b></b>Question 1</u></b>: (1 mark) <br> \n",
    "Change the name of the <i>DeathRate</i> column to <i>Deaths/100K</i>.</p> "
   ]
  },
  {
   "cell_type": "code",
   "execution_count": null,
   "metadata": {},
   "outputs": [],
   "source": [
    "df_long = df_long.rename(columns={'DeathRate':'Deaths/100k'})\n",
    "df_long"
   ]
  },
  {
   "cell_type": "markdown",
   "metadata": {},
   "source": [
    "<u><b>Question 2</b></u>: (1 mark) <br> \n",
    "Display the <i>Year</i> and <i>Deaths/100K</i> for the age group <i>01-04 Years</i>."
   ]
  },
  {
   "cell_type": "code",
   "execution_count": null,
   "metadata": {},
   "outputs": [],
   "source": [
    "df_long.query('AgeGroup == \"01-04 Years\"')[['Year','Deaths/100k']]"
   ]
  },
  {
   "cell_type": "markdown",
   "metadata": {},
   "source": [
    "<u><b>Question 3</b></u>: (1 mark) <br> \n",
    "Calculate the <i>median</i> of all the values in the <i>Deaths/100K</i> column."
   ]
  },
  {
   "cell_type": "code",
   "execution_count": null,
   "metadata": {},
   "outputs": [],
   "source": [
    "df_long['Deaths/100k'].median()"
   ]
  },
  {
   "cell_type": "markdown",
   "metadata": {},
   "source": [
    "<u><b>Question 4</b></u>: (1 mark) <br> \n",
    "Group the data by year, and calculate the sum of the <i>Deaths/100K</i> column.</p>\n"
   ]
  },
  {
   "cell_type": "code",
   "execution_count": null,
   "metadata": {},
   "outputs": [],
   "source": [
    "df_long.groupby('Year')['Deaths/100k'].sum()"
   ]
  },
  {
   "cell_type": "markdown",
   "metadata": {},
   "source": [
    "### <p style=\"background-color:rgb(0, 0, 0);\"><i>Use the <b>df_wide</b> DataFrame until instructed to change DataFrames<i>.</p>"
   ]
  },
  {
   "cell_type": "markdown",
   "metadata": {},
   "source": [
    "<u><b>Question 5</b></u>: (1 mark) <br> \n",
    "Display the <i>Year</i> and the <i>01-04 Years</i> columns for the years from 1915 through 1920.\n"
   ]
  },
  {
   "cell_type": "code",
   "execution_count": null,
   "metadata": {},
   "outputs": [],
   "source": [
    "df_wide.query('Year > 1914 and Year < 1921')[['Year','01-04 Years']]"
   ]
  },
  {
   "cell_type": "markdown",
   "metadata": {},
   "source": [
    "<u><b>Question 6</b></u>: (2 marks) <br> \n",
    "Add a new column to the DataFrame named <i>TotalDeaths</i>. The value of this column should be the sum of the values in each of the year range columns.\n"
   ]
  },
  {
   "cell_type": "code",
   "execution_count": null,
   "metadata": {},
   "outputs": [],
   "source": [
    "df_wide[\"TotalDeaths\"] = df_wide[['01-04 Years','05-09 Years','10-14 Years','15-19 Years']].apply(np.sum , axis=1)\n",
    "df_wide"
   ]
  },
  {
   "cell_type": "markdown",
   "metadata": {},
   "source": [
    "### <p style=\"background-color:rgb(0, 0, 0);\"><i>Use the <b>df_long</b> DataFrame until instructed to change DataFrames<i>.</p>"
   ]
  },
  {
   "cell_type": "markdown",
   "metadata": {},
   "source": [
    "<u><b>Question 7 </b></u>: (3 marks) <br> \n",
    "Create a Pandas bar plot for all the age groups that shows the death rates for the years 1900, 1950 and 2000. View the <i>Question 7.png</i> image as a guideline for what is required."
   ]
  },
  {
   "cell_type": "code",
   "execution_count": null,
   "metadata": {},
   "outputs": [],
   "source": [
    "ax = df_long.query('Year in (1900,1950,2000)').pivot(index='AgeGroup',columns='Year',values='Deaths/100k' ).plot.bar(title='Child Mortality Camparidon 1900,1950,2000')\n",
    "ax.tick_params(labelrotation=30)"
   ]
  },
  {
   "cell_type": "markdown",
   "metadata": {},
   "source": [
    "<u><b>Question 8 </b></u>: (2 marks) <br> \n",
    "Create a Pandas density plot to show the distribution of the death rates in the years 1950. View the <i>Question 9.png</i> image as a guideline for what is required."
   ]
  },
  {
   "cell_type": "code",
   "execution_count": null,
   "metadata": {},
   "outputs": [],
   "source": [
    "df_long.query('Year==1950').plot.density(y='Deaths/100k', grid=True, title='Child Mortality Density: 1950')"
   ]
  },
  {
   "cell_type": "markdown",
   "metadata": {},
   "source": [
    "<u><b>Question 9 </b></u>: (2 marks) <br> \n",
    "Create a Pandas pie plot that shows the sum of the death rates for the years 1900, 1920, 1940, 1960, 1980, 2000 and 2018."
   ]
  },
  {
   "cell_type": "code",
   "execution_count": null,
   "metadata": {},
   "outputs": [],
   "source": [
    "df_long.query('Year in (1900, 1920, 1940, 1960,1980, 2000,2018)').groupby('Year')['Deaths/100k'].sum().plot.pie()\n"
   ]
  },
  {
   "cell_type": "markdown",
   "metadata": {},
   "source": [
    "### <p style=\"background-color:rgb(0, 0, 0);\">Load the <b>ramen-ratings.csv</b> dataset into DataFrames named <i>df_ramen</i>."
   ]
  },
  {
   "cell_type": "code",
   "execution_count": null,
   "metadata": {},
   "outputs": [],
   "source": [
    "df_ramen = pd.read_csv('ramen-ratings.csv')\n",
    "df_ramen"
   ]
  },
  {
   "cell_type": "markdown",
   "metadata": {},
   "source": [
    "### <p style=\"background-color:rgb(0, 0, 0);\"><i>Use the <b>df_ramen</b> DataFrame until instructed to change DataFrames<i>.</p>"
   ]
  },
  {
   "cell_type": "markdown",
   "metadata": {},
   "source": [
    "<u><b>Question 10</b></u>: (2 marks) <br>\n",
    "In the <i>Country</i> column, replace \"USA\" with \"United States\". Make sure this change is saved in the dataframe."
   ]
  },
  {
   "cell_type": "code",
   "execution_count": null,
   "metadata": {},
   "outputs": [],
   "source": [
    "df_ramen['Country'] = df_ramen['Country'].replace('USA', 'United States')\n",
    "df_ramen"
   ]
  },
  {
   "cell_type": "markdown",
   "metadata": {},
   "source": [
    "<u><b>Question 11</b></u>: (1 mark)<br>\n",
    "How many individual countries are represented in the data?"
   ]
  },
  {
   "cell_type": "code",
   "execution_count": null,
   "metadata": {},
   "outputs": [],
   "source": [
    "df_ramen['Country'].nunique()"
   ]
  },
  {
   "cell_type": "markdown",
   "metadata": {},
   "source": [
    "<u><b>Question 11</b></u>: (2 marks)<br> \n",
    "Which three countries have the highest average rating?"
   ]
  },
  {
   "cell_type": "code",
   "execution_count": null,
   "metadata": {},
   "outputs": [],
   "source": [
    "average_ratings = df_ramen.groupby('Country')['Stars'].mean()\n",
    "\n",
    "top_three_countries = average_ratings.nlargest(3)\n",
    "\n",
    "print(f'Highest avarage rating:\\n{top_three_countries}')"
   ]
  },
  {
   "cell_type": "markdown",
   "metadata": {},
   "source": [
    "<u><b>Question 12</b></u>: (2 marks)<br>\n",
    "Which three countries have the most brands, and how many brands does each of these countries have?"
   ]
  },
  {
   "cell_type": "code",
   "execution_count": null,
   "metadata": {},
   "outputs": [],
   "source": [
    "brands_per_country = df_ramen.groupby('Country')['Brand'].nunique()\n",
    "\n",
    "top_three_countries_brands = brands_per_country.nlargest(3)\n",
    "\n",
    "print(f'The 3 countries with most brand:\\n{top_three_countries_brands}')"
   ]
  },
  {
   "cell_type": "markdown",
   "metadata": {},
   "source": [
    "<u><b>Question 13</b></u>: (2 marks)<br>\n",
    "Create a bar plot that shows the average number of stars by ramen style."
   ]
  },
  {
   "cell_type": "code",
   "execution_count": null,
   "metadata": {},
   "outputs": [],
   "source": [
    "avg_stars_by_style = df_ramen.groupby('Style')['Stars'].mean()\n",
    "\n",
    "\n",
    "plt.figure(figsize=(10, 6))\n",
    "avg_stars_by_style.plot(kind='bar')\n",
    "plt.xlabel('Ramen Style')\n",
    "plt.ylabel('Average Stars')\n",
    "plt.title('Average Number of Stars by Ramen Style')\n",
    "plt.show()"
   ]
  },
  {
   "cell_type": "markdown",
   "metadata": {},
   "source": [
    "<u><b>Question 14</b></u>: (4 marks)<br>\n",
    "Use the <i>query()</i> method to filter the data to contain only data for Japan, India, Taiwan, and the United States. Plot the stars by style for each country on a sublot with two subplots per row."
   ]
  },
  {
   "cell_type": "code",
   "execution_count": null,
   "metadata": {},
   "outputs": [],
   "source": [
    "\n",
    "filtered_data = df_ramen.query(\"Country in ['Japan', 'India', 'Taiwan', 'United States']\")\n",
    "fig, axes = plt.subplots(2, 2, figsize=(12, 10))\n",
    "axes = axes.flatten()\n",
    "for i, country in enumerate(['Japan', 'India', 'Taiwan', 'United States']):\n",
    "    sns.barplot(x='Style', y='Stars', data=filtered_data[filtered_data['Country'] == country], ax=axes[i])\n",
    "    axes[i].set_title(f'Stars by Style - {country}')\n",
    "    axes[i].set_xlabel('Ramen Style')\n",
    "    axes[i].set_ylabel('Stars')\n",
    "\n",
    "plt.tight_layout()\n",
    "\n",
    "plt.show()"
   ]
  },
  {
   "cell_type": "markdown",
   "metadata": {},
   "source": [
    "<u><b>Question 15</b></u>: (1 mark)<br>\n",
    "Rename the <i>Stars</i> column to <i>Rating</i>."
   ]
  },
  {
   "cell_type": "code",
   "execution_count": null,
   "metadata": {},
   "outputs": [],
   "source": [
    "df_ramen.rename(columns={'Stars': 'Rating'}, inplace=True)\n",
    "df_ramen"
   ]
  },
  {
   "cell_type": "markdown",
   "metadata": {},
   "source": [
    "<u><b>Question 16</b></u>: (1 mark)<br>\n",
    "Convert the <i>Style</i> column to the <b>category</b> type."
   ]
  },
  {
   "cell_type": "code",
   "execution_count": null,
   "metadata": {},
   "outputs": [],
   "source": [
    "df_ramen['Style'] = df_ramen['Style'].astype('category')\n",
    "df_ramen.info()"
   ]
  },
  {
   "cell_type": "markdown",
   "metadata": {},
   "source": [
    "<u><b>Question 17</b></u>: (2 marks)<br>\n",
    "Drop all rows with duplicate Brand/Variety combinations except for the first row in each set."
   ]
  },
  {
   "cell_type": "code",
   "execution_count": null,
   "metadata": {},
   "outputs": [],
   "source": [
    "df_ramen.drop_duplicates(subset=['Brand', 'Variety'], keep='first', inplace=True)\n",
    "df_ramen"
   ]
  },
  {
   "cell_type": "markdown",
   "metadata": {},
   "source": [
    "<u><b>Question 18</b></u>: (1 mark)<br>\n",
    "Drop any rows that have missing values."
   ]
  },
  {
   "cell_type": "code",
   "execution_count": null,
   "metadata": {},
   "outputs": [],
   "source": [
    "df_ramen.dropna(inplace=True)\n",
    "df_ramen"
   ]
  },
  {
   "cell_type": "markdown",
   "metadata": {},
   "source": [
    "### Before proceeding, make sure to reload the original data from the <b><u>ramen-ratings.csv</u></b> dataset into the dataframe."
   ]
  },
  {
   "cell_type": "markdown",
   "metadata": {},
   "source": [
    "<u><b>Question 19</b></u>: (3 marks)<br>\n",
    "Add a colmumn to the dataframe that stores the average rating for each country."
   ]
  },
  {
   "cell_type": "code",
   "execution_count": null,
   "metadata": {},
   "outputs": [],
   "source": [
    "df_ramen['Average_Rating'] = df_ramen.groupby('Country')['Rating'].transform('mean')\n",
    "df_ramen"
   ]
  },
  {
   "cell_type": "markdown",
   "metadata": {},
   "source": [
    "<u><b>Question 20</b></u>:(4 marks)<br>\n",
    "Bin the stars data into 5 quantiles. Give each bin a descriptive label, and then display the count of the stars in each bin. "
   ]
  },
  {
   "cell_type": "code",
   "execution_count": null,
   "metadata": {},
   "outputs": [],
   "source": [
    "bins = pd.qcut(df_ramen['Rating'], q=5, labels=['Very Low', 'Low', 'Medium', 'High', 'Very High'])\n",
    "df_ramen['Stars_Category'] = bins\n",
    "\n",
    "\n",
    "stars_countbybin = df_ramen['Stars_Category'].value_counts().sort_index()\n",
    "stars_countbybin"
   ]
  },
  {
   "cell_type": "markdown",
   "metadata": {},
   "source": [
    "<u><b>Question 21</b></u>: (4 marks)<br>\n",
    "Write a function that takes a row as input and returns a shortened version of the values in the <i>Variety</i> column. The values should consist of the first two words of the variety name, followed by a space and an ellipsis (…). \n",
    "<b>Hint</b>: You’ll need to split the values into a list of words, get the first two words in the list, add the ellipsis to the list, and then join the words in the list."
   ]
  },
  {
   "cell_type": "code",
   "execution_count": null,
   "metadata": {},
   "outputs": [],
   "source": [
    "def shorten_variety(row):\n",
    "    if pd.notna(row['Variety']):\n",
    "        words = row['Variety'].split()\n",
    "        shortened_variety = ' '.join(words[:2] + ['…'])\n",
    "        return shortened_variety\n",
    "    else:\n",
    "        return np.nan\n",
    "\n",
    "\n",
    "df_ramen['Shortened_Variety'] = df_ramen.apply(shorten_variety, axis=1)\n",
    "df_ramen"
   ]
  },
  {
   "cell_type": "markdown",
   "metadata": {},
   "source": [
    "<u><b>Question 22</b></u>: (2 marks)<br>\n",
    "Apply the function you wrote for <b>Question 26</b> to the dataframe and store the results in a column named <i>ShortVariety</i>."
   ]
  },
  {
   "cell_type": "code",
   "execution_count": null,
   "metadata": {},
   "outputs": [],
   "source": [
    "df_ramen['ShortVariety'] = df_ramen.apply(shorten_variety, axis=1)\n",
    "df_ramen"
   ]
  },
  {
   "cell_type": "markdown",
   "metadata": {},
   "source": [
    "<u><b>Question 23</b></u>: (2 marks)<br>\n",
    "Create a pivot table that shows the average stars by ramen style for each country."
   ]
  },
  {
   "cell_type": "code",
   "execution_count": null,
   "metadata": {},
   "outputs": [],
   "source": [
    "pivot_table = pd.pivot_table(df_ramen, values='Rating', index='Country', columns='Style', aggfunc='mean')\n",
    "pivot_table.head(5)"
   ]
  },
  {
   "cell_type": "markdown",
   "metadata": {},
   "source": [
    "<u><b>Question 24</b></u>: (4 marks)<br>\n",
    "Calculate the total number of stars for each country, and then rank the countries in descending order by total stars."
   ]
  },
  {
   "cell_type": "code",
   "execution_count": null,
   "metadata": {},
   "outputs": [],
   "source": [
    "total_stars_by_country = df_ramen.groupby('Country')['Rating'].sum().reset_index()\n",
    "ranked_countries = total_stars_by_country.sort_values(by='Rating', ascending=False)\n",
    "ranked_countries"
   ]
  },
  {
   "cell_type": "markdown",
   "metadata": {},
   "source": [
    "### <p style=\"background-color:rgb(0, 0, 0);\">Load the <b>advocado.csv</b> dataset into a DataFrame named <i>df_advocado</i>."
   ]
  },
  {
   "cell_type": "code",
   "execution_count": null,
   "metadata": {},
   "outputs": [],
   "source": [
    "df_advocado = pd.read_csv('avocado.csv')\n",
    "df_advocado"
   ]
  },
  {
   "cell_type": "markdown",
   "metadata": {},
   "source": [
    "### Use the <b><u>df_advocado</u></b> DataFrame until instructed to switch to a different DataFrame"
   ]
  },
  {
   "cell_type": "markdown",
   "metadata": {},
   "source": [
    "<u><b>Question 25</b></u>: (3 marks)<br>\n",
    "Create a new dataframe that contains the total of the <i>Small Bags</i>, <i>Large Bags</i>, and <i>XLarge Bags</i> grouped by type."
   ]
  },
  {
   "cell_type": "code",
   "execution_count": null,
   "metadata": {},
   "outputs": [],
   "source": [
    "bags_total_by_type = df_advocado.groupby('type')[['Small Bags', 'Large Bags', 'XLarge Bags']].sum()\n",
    "bags_total_by_type"
   ]
  },
  {
   "cell_type": "markdown",
   "metadata": {},
   "source": [
    "<u><b>Question 26</b></u>: (2 marks)<br>\n",
    "Use the original data to create a scatter plot for the <i>Total Volume</i> and <i>AveragePrice</i>."
   ]
  },
  {
   "cell_type": "code",
   "execution_count": null,
   "metadata": {},
   "outputs": [],
   "source": [
    "plt.figure(figsize=(10, 6))\n",
    "sns.scatterplot(x='Total Volume', y='AveragePrice', data=df_advocado, alpha=0.7)\n",
    "plt.title('Scatter Plot of Total Volume vs. Average Price')\n",
    "plt.xlabel('Total Volume')\n",
    "plt.ylabel('Average Price')\n",
    "plt.show()"
   ]
  },
  {
   "cell_type": "markdown",
   "metadata": {},
   "source": [
    "<u><b>Question 27</b></u>: (2 marks)<br>\n",
    "In what year was the most bags of avocados sold (use a bar plot in your answer)?"
   ]
  },
  {
   "cell_type": "code",
   "execution_count": null,
   "metadata": {},
   "outputs": [],
   "source": [
    "bags_byyear = df_advocado.groupby('year')['Total Bags'].sum().reset_index()\n",
    "\n",
    "\n",
    "plt.figure(figsize=(10, 6))\n",
    "plt.bar(bags_byyear['year'], bags_byyear['Total Bags'])\n",
    "plt.title('Total Bags of Avocados Sold by Year')\n",
    "plt.xlabel('Year')\n",
    "plt.ylabel('Total Bags Sold')\n",
    "\n",
    "max_year = bags_byyear.loc[bags_byyear['Total Bags'].idxmax(), 'year']\n",
    "max_bags = bags_byyear['Total Bags'].max()\n",
    "plt.text(0.5, -0.15, f\"The most bags of avocados were sold in {max_year}\", transform=plt.gca().transAxes, fontsize=10, ha='center')\n",
    "plt.show()"
   ]
  },
  {
   "cell_type": "markdown",
   "metadata": {},
   "source": [
    "<u><b>Question 28</b></u>: (2 marks)<br>\n",
    "Multiply the <i>Total Volume</i> and <i>AveragePrice</i> columns, and store the result in a new column named <i>EstimatedRevenue</i>."
   ]
  },
  {
   "cell_type": "code",
   "execution_count": null,
   "metadata": {},
   "outputs": [],
   "source": [
    "avocado_df = pd.read_csv('avocado.csv')\n",
    "avocado_df['EstimatedRevenue'] = avocado_df['Total Volume'] * avocado_df['AveragePrice']\n",
    "avocado_df[['Total Volume', 'AveragePrice', 'EstimatedRevenue']]"
   ]
  },
  {
   "cell_type": "markdown",
   "metadata": {},
   "source": [
    "<u><b>Question 29</b></u>: (3 marks)<br>\n",
    "Filter the data so it contains just the rows for 2015, for the conventional type, and for the region named Albany. Store just the Date, Total Bags, and Small Bags columns in anew DataFrame"
   ]
  },
  {
   "cell_type": "code",
   "execution_count": null,
   "metadata": {},
   "outputs": [],
   "source": [
    "filtered_data = avocado_df[(avocado_df['year'] == 2015) & \n",
    "                            (avocado_df['type'] == 'conventional') & \n",
    "                            (avocado_df['region'] == 'Albany')]\n",
    "\n",
    "selected_columns_df = filtered_data[['Date', 'Total Bags', 'Small Bags']]\n",
    "selected_columns_df.head(5)"
   ]
  },
  {
   "cell_type": "markdown",
   "metadata": {},
   "source": [
    "<u><b>Question 30</b></u>: (3 marks)<br>\n",
    "Melt the data in the Total Bags and Small Bags columns for the dataframe created for <b>Question 29</b>, but not the values in the Date column. Name the column that contains the type of bag Bags, and name the column that contains the number of bags Count. Then, display the resulting DataFrame.\n"
   ]
  },
  {
   "cell_type": "code",
   "execution_count": null,
   "metadata": {},
   "outputs": [],
   "source": [
    "melted_df = pd.melt(selected_columns_df, id_vars=['Date'], value_vars=['Total Bags', 'Small Bags'], \n",
    "                    var_name='Bags', value_name='Count')\n",
    "\n",
    "melted_df"
   ]
  },
  {
   "cell_type": "markdown",
   "metadata": {},
   "source": [
    "<u><b>Question 31</b></u>: (3 marks)<br>\n",
    "Bin the data in the Total Volume column into four quantiles labeled ‘poor’, ‘modest’, ‘good’, and ‘excellent’, and store the bin labels in a new column."
   ]
  },
  {
   "cell_type": "code",
   "execution_count": null,
   "metadata": {},
   "outputs": [],
   "source": [
    "bins = pd.qcut(avocado_df['Total Volume'], q=[0, 0.25, 0.5, 0.75, 1], labels=['poor', 'modest', 'good', 'excellent'])\n",
    "avocado_df['VolumeCategory'] = bins\n",
    "avocado_df"
   ]
  },
  {
   "cell_type": "markdown",
   "metadata": {},
   "source": [
    "### <p style=\"background-color:rgb(0, 0, 0);\">Load the <b>laptop.csv</b> dataset into a DataFrame named <i>df_laptop</i>."
   ]
  },
  {
   "cell_type": "code",
   "execution_count": null,
   "metadata": {},
   "outputs": [],
   "source": [
    "df_laptop = pd.read_csv('laptops.csv')\n",
    "df_laptop"
   ]
  },
  {
   "cell_type": "markdown",
   "metadata": {},
   "source": [
    "### Use the <b><u>df_laptops</u></b> dataframe until instructed to switch to a different DataFrame."
   ]
  },
  {
   "cell_type": "markdown",
   "metadata": {},
   "source": [
    "<u><b>Question 32</b></u>: (3 marks)<br>\n",
    "Display the brand, laptop name, and disk space for all laptops with an SSD option in disk space. Sort the output by laptop name."
   ]
  },
  {
   "cell_type": "code",
   "execution_count": null,
   "metadata": {},
   "outputs": [],
   "source": [
    "ssd_laptops = df_laptop[df_laptop['disk_space'].str.contains('SSD', case=False, na=False)]\n",
    "result_df = ssd_laptops[['brand', 'laptop_name', 'disk_space']].sort_values(by='laptop_name')\n",
    "print(result_df)"
   ]
  },
  {
   "cell_type": "markdown",
   "metadata": {},
   "source": [
    "<u><b>Question 33</b></u>: (3 marks)<br>\n",
    "Display the brand, laptop name, and rating for all laptops with a rating of better than 4.5. Sort the output by rating value"
   ]
  },
  {
   "cell_type": "code",
   "execution_count": null,
   "metadata": {},
   "outputs": [],
   "source": [
    "df_laptop['ratings_5max'] = pd.to_numeric(df_laptop['ratings_5max'], errors='coerce')\n",
    "\n",
    "\n",
    "high_rated_laptops = df_laptop[df_laptop['ratings_5max'] > 4.5]\n",
    "result_df = high_rated_laptops[['brand', 'laptop_name', 'ratings_5max']].sort_values(by='ratings_5max', ascending=False)\n",
    "\n",
    "print(result_df)"
   ]
  },
  {
   "cell_type": "markdown",
   "metadata": {},
   "source": [
    "<u><b>Question 34</b></u>: (3 marks)<br>\n",
    "What is the average price for each laptop brand? Present the output in descending order of average price values. Create an index for the output table using the reset_index function (this may require a number of steps)."
   ]
  },
  {
   "cell_type": "code",
   "execution_count": null,
   "metadata": {},
   "outputs": [],
   "source": [
    "df_laptop['discount_price'] = pd.to_numeric(df_laptop['discount_price'], errors='coerce')\n",
    "df_laptop['old_price'] = pd.to_numeric(df_laptop['old_price'], errors='coerce')\n",
    "df_laptop['average_price'] = df_laptop[['discount_price', 'old_price']].mean(axis=1)\n",
    "average_price_per_brand = df_laptop.groupby('brand')['average_price'].mean().sort_values(ascending=False)\n",
    "result_df = average_price_per_brand.reset_index()\n",
    "\n",
    "print(result_df)"
   ]
  },
  {
   "cell_type": "markdown",
   "metadata": {},
   "source": [
    "<u><b>Question 35</b></u>: (4 marks)<br>\n",
    "Plot the data generated by <b>Question 34</b> as a bar chart with x axis title being \"Price\", y axis title being \"Brand\" and plot title \"Average Laptop Price by Brand\"."
   ]
  },
  {
   "cell_type": "code",
   "execution_count": null,
   "metadata": {},
   "outputs": [],
   "source": [
    "plt.figure(figsize=(10, 6))\n",
    "sns.barplot(x='average_price', y='brand', data=result_df, )\n",
    "plt.title('Average Laptop Price by Brand')\n",
    "plt.xlabel('Price')\n",
    "plt.ylabel('Brand')\n",
    "\n",
    "plt.show()"
   ]
  },
  {
   "cell_type": "markdown",
   "metadata": {},
   "source": [
    "<u><b>Question 36</b></u>: (5 marks)<br>\n",
    "What is the average rating for each laptop brand (you will have to convert the existing <i><b>ratings_5max</b></i> column to a numeric type, and then get rid of any NaN values in the converted <i><b>rating</b></i> column)?"
   ]
  },
  {
   "cell_type": "code",
   "execution_count": null,
   "metadata": {},
   "outputs": [],
   "source": [
    "df_laptop['ratings_5max'] = pd.to_numeric(df_laptop['ratings_5max'], errors='coerce')\n",
    "laptops_df = df_laptop.dropna(subset=['ratings_5max'])\n",
    "average_rating_per_brand = laptops_df.groupby('brand')['ratings_5max'].mean().sort_values(ascending=False)\n",
    "print(average_rating_per_brand)"
   ]
  }
 ],
 "metadata": {
  "kernelspec": {
   "display_name": "Python 3",
   "language": "python",
   "name": "python3"
  },
  "language_info": {
   "codemirror_mode": {
    "name": "ipython",
    "version": 3
   },
   "file_extension": ".py",
   "mimetype": "text/x-python",
   "name": "python",
   "nbconvert_exporter": "python",
   "pygments_lexer": "ipython3",
   "version": "3.11.4"
  }
 },
 "nbformat": 4,
 "nbformat_minor": 2
}
